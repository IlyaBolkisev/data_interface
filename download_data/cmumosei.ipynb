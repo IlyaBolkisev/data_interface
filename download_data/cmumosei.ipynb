{
  "nbformat": 4,
  "nbformat_minor": 0,
  "metadata": {
    "colab": {
      "provenance": []
    },
    "kernelspec": {
      "name": "python3",
      "display_name": "Python 3"
    },
    "language_info": {
      "name": "python"
    }
  },
  "cells": [
    {
      "cell_type": "markdown",
      "source": [
        "# colab link https://colab.research.google.com/drive/1G02SxdOMx9oD1QsCbhY8o1eKXpX7hNhk?usp=sharing"
      ],
      "metadata": {
        "id": "YsPZoyU1LHbg"
      }
    },
    {
      "cell_type": "code",
      "execution_count": null,
      "metadata": {
        "colab": {
          "base_uri": "https://localhost:8080/"
        },
        "id": "OPzDIkEzJnAQ",
        "outputId": "ce3d0bce-8f07-448f-d39b-28dd040a3b0b"
      },
      "outputs": [
        {
          "output_type": "stream",
          "name": "stdout",
          "text": [
            "Cloning into 'CMU-MultimodalSDK'...\n",
            "remote: Enumerating objects: 100, done.\u001b[K\n",
            "remote: Counting objects: 100% (100/100), done.\u001b[K\n",
            "remote: Compressing objects: 100% (82/82), done.\u001b[K\n",
            "remote: Total 100 (delta 13), reused 94 (delta 11), pack-reused 0 (from 0)\u001b[K\n",
            "Receiving objects: 100% (100/100), 294.05 KiB | 9.80 MiB/s, done.\n",
            "Resolving deltas: 100% (13/13), done.\n",
            "/content/CMU-MultimodalSDK\n",
            "Processing /content/CMU-MultimodalSDK\n",
            "  Preparing metadata (setup.py) ... \u001b[?25l\u001b[?25hdone\n",
            "Requirement already satisfied: numpy>=1.26.2 in /usr/local/lib/python3.10/dist-packages (from mmsdk==1.1.0) (1.26.4)\n",
            "Requirement already satisfied: h5py>=3.10.0 in /usr/local/lib/python3.10/dist-packages (from mmsdk==1.1.0) (3.11.0)\n",
            "Collecting validators>=0.22.0 (from mmsdk==1.1.0)\n",
            "  Downloading validators-0.34.0-py3-none-any.whl.metadata (3.8 kB)\n",
            "Requirement already satisfied: tqdm>=4.66.1 in /usr/local/lib/python3.10/dist-packages (from mmsdk==1.1.0) (4.66.5)\n",
            "Collecting colorama>=0.4.6 (from mmsdk==1.1.0)\n",
            "  Downloading colorama-0.4.6-py2.py3-none-any.whl.metadata (17 kB)\n",
            "Downloading colorama-0.4.6-py2.py3-none-any.whl (25 kB)\n",
            "Downloading validators-0.34.0-py3-none-any.whl (43 kB)\n",
            "\u001b[2K   \u001b[90m━━━━━━━━━━━━━━━━━━━━━━━━━━━━━━━━━━━━━━━━\u001b[0m \u001b[32m43.5/43.5 kB\u001b[0m \u001b[31m2.0 MB/s\u001b[0m eta \u001b[36m0:00:00\u001b[0m\n",
            "\u001b[?25hBuilding wheels for collected packages: mmsdk\n",
            "  Building wheel for mmsdk (setup.py) ... \u001b[?25l\u001b[?25hdone\n",
            "  Created wheel for mmsdk: filename=mmsdk-1.1.0-py3-none-any.whl size=79210 sha256=4c1b10e920b4ec767b1ef153e419a6e536f44490fbd0ba9efb2521c2022062b9\n",
            "  Stored in directory: /root/.cache/pip/wheels/c6/12/b6/5abbb16746cd7a88030aee0301975f51dea74e77699c67ed0b\n",
            "Successfully built mmsdk\n",
            "Installing collected packages: validators, colorama, mmsdk\n",
            "Successfully installed colorama-0.4.6 mmsdk-1.1.0 validators-0.34.0\n"
          ]
        }
      ],
      "source": [
        "!git clone https://github.com/CMU-MultiComp-Lab/CMU-MultimodalSDK\n",
        "%cd CMU-MultimodalSDK\n",
        "!pip install ."
      ]
    },
    {
      "cell_type": "code",
      "source": [
        "from mmsdk import mmdatasdk\n",
        "cmumosi_highlevel=mmdatasdk.mmdataset(mmdatasdk.cmu_mosei.highlevel,'cmumosei/')"
      ],
      "metadata": {
        "colab": {
          "base_uri": "https://localhost:8080/"
        },
        "id": "mZ3A-5rBUXXP",
        "outputId": "89b2599d-d227-4106-908f-03d5c681a592"
      },
      "execution_count": null,
      "outputs": [
        {
          "output_type": "stream",
          "name": "stderr",
          "text": [
            "/content/CMU-MultimodalSDK/mmsdk/mmdatasdk/computational_sequence/file_ops.py:53: SyntaxWarning: \"is\" with a literal. Did you mean \"==\"?\n",
            "  metadataHandle.create_dataset(metadataKey,(1,),dtype=h5py.special_dtype(vlen=unicode) if sys.version_info.major is 2 else h5py.special_dtype(vlen=str))\n",
            "/content/CMU-MultimodalSDK/mmsdk/mmdatasdk/computational_sequence/file_ops.py:54: SyntaxWarning: \"is\" with a literal. Did you mean \"==\"?\n",
            "  cast_operator=unicode if sys.version_info.major is 2 else str\n"
          ]
        },
        {
          "output_type": "stream",
          "name": "stdout",
          "text": [
            "\u001b[94m\u001b[1m[2024-10-29 08:15:57.580] | Status  | \u001b[0mDownloading from http://immortal.multicomp.cs.cmu.edu/CMU-MOSEI/language/CMU_MOSEI_TimestampedWordVectors.csd to cmumosei/CMU_MOSEI_TimestampedWordVectors.csd...\n"
          ]
        },
        {
          "output_type": "stream",
          "name": "stderr",
          "text": []
        },
        {
          "output_type": "stream",
          "name": "stdout",
          "text": [
            "\u001b[92m\u001b[1m[2024-10-29 08:16:52.170] | Success | \u001b[0mDownload complete!\n",
            "\u001b[92m\u001b[1m[2024-10-29 08:16:52.172] | Success | \u001b[0mComputational sequence read from file cmumosei/CMU_MOSEI_TimestampedWordVectors.csd ...\n",
            "\u001b[94m\u001b[1m[2024-10-29 08:16:52.341] | Status  | \u001b[0mChecking the integrity of the <glove_vectors> computational sequence ...\n",
            "\u001b[94m\u001b[1m[2024-10-29 08:16:52.342] | Status  | \u001b[0mChecking the format of the data in <glove_vectors> computational sequence ...\n"
          ]
        },
        {
          "output_type": "stream",
          "name": "stderr",
          "text": []
        },
        {
          "output_type": "stream",
          "name": "stdout",
          "text": [
            "\u001b[92m\u001b[1m[2024-10-29 08:16:54.746] | Success | \u001b[0m<glove_vectors> computational sequence data in correct format.\n",
            "\u001b[94m\u001b[1m[2024-10-29 08:16:54.747] | Status  | \u001b[0mChecking the format of the metadata in <glove_vectors> computational sequence ...\n",
            "\u001b[93m\u001b[1m[2024-10-29 08:16:54.748] | Warning | \u001b[0m<glove_vectors> computational sequence does not have all the required metadata ... continuing \n",
            "\u001b[94m\u001b[1m[2024-10-29 08:16:55.010] | Status  | \u001b[0mDownloading from http://immortal.multicomp.cs.cmu.edu/CMU-MOSEI/acoustic/CMU_MOSEI_COVAREP.csd to cmumosei/CMU_MOSEI_COVAREP.csd...\n"
          ]
        },
        {
          "output_type": "stream",
          "name": "stderr",
          "text": []
        },
        {
          "output_type": "stream",
          "name": "stdout",
          "text": [
            "\u001b[92m\u001b[1m[2024-10-29 08:24:48.214] | Success | \u001b[0mDownload complete!\n",
            "\u001b[92m\u001b[1m[2024-10-29 08:24:48.229] | Success | \u001b[0mComputational sequence read from file cmumosei/CMU_MOSEI_COVAREP.csd ...\n",
            "\u001b[94m\u001b[1m[2024-10-29 08:24:50.057] | Status  | \u001b[0mChecking the integrity of the <COVAREP> computational sequence ...\n",
            "\u001b[94m\u001b[1m[2024-10-29 08:24:50.058] | Status  | \u001b[0mChecking the format of the data in <COVAREP> computational sequence ...\n"
          ]
        },
        {
          "output_type": "stream",
          "name": "stderr",
          "text": []
        },
        {
          "output_type": "stream",
          "name": "stdout",
          "text": [
            "\u001b[92m\u001b[1m[2024-10-29 08:24:55.297] | Success | \u001b[0m<COVAREP> computational sequence data in correct format.\n",
            "\u001b[94m\u001b[1m[2024-10-29 08:24:55.297] | Status  | \u001b[0mChecking the format of the metadata in <COVAREP> computational sequence ...\n",
            "\u001b[93m\u001b[1m[2024-10-29 08:24:55.297] | Warning | \u001b[0m<COVAREP> computational sequence does not have all the required metadata ... continuing \n",
            "\u001b[94m\u001b[1m[2024-10-29 08:24:55.566] | Status  | \u001b[0mDownloading from http://immortal.multicomp.cs.cmu.edu/CMU-MOSEI/visual/CMU_MOSEI_VisualOpenFace2.csd to cmumosei/CMU_MOSEI_VisualOpenFace2.csd...\n"
          ]
        },
        {
          "output_type": "stream",
          "name": "stderr",
          "text": []
        },
        {
          "output_type": "stream",
          "name": "stdout",
          "text": [
            "\u001b[92m\u001b[1m[2024-10-29 08:35:53.300] | Success | \u001b[0mDownload complete!\n",
            "\u001b[92m\u001b[1m[2024-10-29 08:35:53.307] | Success | \u001b[0mComputational sequence read from file cmumosei/CMU_MOSEI_VisualOpenFace2.csd ...\n",
            "\u001b[94m\u001b[1m[2024-10-29 08:35:55.274] | Status  | \u001b[0mChecking the integrity of the <OpenFace_2> computational sequence ...\n",
            "\u001b[94m\u001b[1m[2024-10-29 08:35:55.274] | Status  | \u001b[0mChecking the format of the data in <OpenFace_2> computational sequence ...\n"
          ]
        },
        {
          "output_type": "stream",
          "name": "stderr",
          "text": []
        },
        {
          "output_type": "stream",
          "name": "stdout",
          "text": [
            "\u001b[92m\u001b[1m[2024-10-29 08:35:59.987] | Success | \u001b[0m<OpenFace_2> computational sequence data in correct format.\n",
            "\u001b[94m\u001b[1m[2024-10-29 08:35:59.987] | Status  | \u001b[0mChecking the format of the metadata in <OpenFace_2> computational sequence ...\n",
            "\u001b[93m\u001b[1m[2024-10-29 08:35:59.987] | Warning | \u001b[0m<OpenFace_2> computational sequence does not have all the required metadata ... continuing \n",
            "\u001b[94m\u001b[1m[2024-10-29 08:36:00.291] | Status  | \u001b[0mDownloading from http://immortal.multicomp.cs.cmu.edu/CMU-MOSEI/visual/CMU_MOSEI_VisualFacet42.csd to cmumosei/CMU_MOSEI_VisualFacet42.csd...\n"
          ]
        },
        {
          "output_type": "stream",
          "name": "stderr",
          "text": []
        },
        {
          "output_type": "stream",
          "name": "stdout",
          "text": [
            "\u001b[92m\u001b[1m[2024-10-29 08:37:20.115] | Success | \u001b[0mDownload complete!\n",
            "\u001b[92m\u001b[1m[2024-10-29 08:37:20.118] | Success | \u001b[0mComputational sequence read from file cmumosei/CMU_MOSEI_VisualFacet42.csd ...\n",
            "\u001b[94m\u001b[1m[2024-10-29 08:37:20.264] | Status  | \u001b[0mChecking the integrity of the <FACET 4.2> computational sequence ...\n",
            "\u001b[94m\u001b[1m[2024-10-29 08:37:20.265] | Status  | \u001b[0mChecking the format of the data in <FACET 4.2> computational sequence ...\n"
          ]
        },
        {
          "output_type": "stream",
          "name": "stderr",
          "text": [
            "                                                                                  "
          ]
        },
        {
          "output_type": "stream",
          "name": "stdout",
          "text": [
            "\u001b[92m\u001b[1m[2024-10-29 08:37:22.390] | Success | \u001b[0m<FACET 4.2> computational sequence data in correct format.\n",
            "\u001b[94m\u001b[1m[2024-10-29 08:37:22.390] | Status  | \u001b[0mChecking the format of the metadata in <FACET 4.2> computational sequence ...\n",
            "\u001b[93m\u001b[1m[2024-10-29 08:37:22.390] | Warning | \u001b[0m<FACET 4.2> computational sequence does not have all the required metadata ... continuing \n",
            "\u001b[92m\u001b[1m[2024-10-29 08:37:22.390] | Success | \u001b[0mDataset initialized successfully ... \n"
          ]
        },
        {
          "output_type": "stream",
          "name": "stderr",
          "text": [
            "\r"
          ]
        }
      ]
    },
    {
      "cell_type": "code",
      "source": [
        "!du -h cmumosei"
      ],
      "metadata": {
        "colab": {
          "base_uri": "https://localhost:8080/"
        },
        "id": "Tn68bpGTVyQt",
        "outputId": "1af66cda-08e2-4ddb-cc53-26e9280bd885"
      },
      "execution_count": null,
      "outputs": [
        {
          "output_type": "stream",
          "name": "stdout",
          "text": [
            "30G\tcmumosei\n"
          ]
        }
      ]
    },
    {
      "cell_type": "code",
      "source": [],
      "metadata": {
        "id": "fkz04URrakM7"
      },
      "execution_count": null,
      "outputs": []
    }
  ]
}