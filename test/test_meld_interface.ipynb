{
  "nbformat": 4,
  "nbformat_minor": 0,
  "metadata": {
    "colab": {
      "provenance": [],
      "gpuType": "T4"
    },
    "kernelspec": {
      "name": "python3",
      "display_name": "Python 3"
    },
    "language_info": {
      "name": "python"
    },
    "accelerator": "GPU"
  },
  "cells": [
    {
      "cell_type": "markdown",
      "source": [
        "# get data"
      ],
      "metadata": {
        "id": "1Veek7HGq4Nb"
      }
    },
    {
      "cell_type": "code",
      "execution_count": 1,
      "metadata": {
        "colab": {
          "base_uri": "https://localhost:8080/"
        },
        "id": "l_Bj_Yn7asHm",
        "outputId": "10b3d0e0-03b5-4ddc-e696-8b7c56719b53"
      },
      "outputs": [
        {
          "output_type": "stream",
          "name": "stdout",
          "text": [
            "--2024-11-21 12:06:40--  https://web.eecs.umich.edu/~mihalcea/downloads/MELD.Raw.tar.gz\n",
            "Resolving web.eecs.umich.edu (web.eecs.umich.edu)... 141.212.113.214\n",
            "Connecting to web.eecs.umich.edu (web.eecs.umich.edu)|141.212.113.214|:443... connected.\n",
            "HTTP request sent, awaiting response... 200 OK\n",
            "Length: 10878146150 (10G) [application/x-gzip]\n",
            "Saving to: ‘MELD.Raw.tar.gz’\n",
            "\n",
            "MELD.Raw.tar.gz     100%[===================>]  10.13G  58.0MB/s    in 3m 0s   \n",
            "\n",
            "2024-11-21 12:09:41 (57.6 MB/s) - ‘MELD.Raw.tar.gz’ saved [10878146150/10878146150]\n",
            "\n"
          ]
        }
      ],
      "source": [
        "!wget https://web.eecs.umich.edu/~mihalcea/downloads/MELD.Raw.tar.gz"
      ]
    },
    {
      "cell_type": "code",
      "source": [
        "!tar -xvzf ./MELD.Raw.tar.gz\n",
        "%cd ./MELD.Raw\n",
        "!mkdir ./train\n",
        "!tar -xzf ./train.tar.gz -C ./train\n",
        "!rm ./train.tar.gz\n",
        "!mkdir ./dev\n",
        "!tar -xzf ./dev.tar.gz -C ./dev\n",
        "!rm ./dev.tar.gz\n",
        "!mkdir ./test\n",
        "!tar -xzf ./test.tar.gz -C ./test\n",
        "!rm ./test.tar.gz"
      ],
      "metadata": {
        "colab": {
          "base_uri": "https://localhost:8080/"
        },
        "id": "xyqVZMDPaznd",
        "outputId": "29a73551-4f2d-4ed0-f052-dddfcbe308d0"
      },
      "execution_count": 8,
      "outputs": [
        {
          "output_type": "stream",
          "name": "stdout",
          "text": [
            "MELD.Raw/\n",
            "MELD.Raw/train.tar.gz\n",
            "MELD.Raw/dev.tar.gz\n",
            "MELD.Raw/test_sent_emo.csv\n",
            "MELD.Raw/._train_splits\n",
            "MELD.Raw/dev_sent_emo.csv\n",
            "MELD.Raw/README.txt\n",
            "MELD.Raw/test.tar.gz\n",
            "/content/MELD.Raw\n"
          ]
        }
      ]
    },
    {
      "cell_type": "markdown",
      "source": [
        "# test"
      ],
      "metadata": {
        "id": "I7m0aZcHq6JL"
      }
    },
    {
      "cell_type": "code",
      "source": [
        "%cd ../\n",
        "!git clone https://github.com/IlyaBolkisev/data_interface\n",
        "%cd ./data_interface"
      ],
      "metadata": {
        "colab": {
          "base_uri": "https://localhost:8080/"
        },
        "id": "iYsuackVuw0C",
        "outputId": "3f3d4d0b-0641-44c6-844b-51bab56ff5ce"
      },
      "execution_count": 17,
      "outputs": [
        {
          "output_type": "stream",
          "name": "stdout",
          "text": [
            "/content\n",
            "Cloning into 'data_interface'...\n",
            "remote: Enumerating objects: 15, done.\u001b[K\n",
            "remote: Counting objects: 100% (15/15), done.\u001b[K\n",
            "remote: Compressing objects: 100% (9/9), done.\u001b[K\n",
            "remote: Total 15 (delta 1), reused 12 (delta 1), pack-reused 0 (from 0)\u001b[K\n",
            "Receiving objects: 100% (15/15), 28.70 KiB | 445.00 KiB/s, done.\n",
            "Resolving deltas: 100% (1/1), done.\n",
            "/content/data_interface\n"
          ]
        }
      ]
    },
    {
      "cell_type": "code",
      "source": [
        "from src.utils import Dataloader\n",
        "\n",
        "data = Dataloader('/content/MELD.Raw/')"
      ],
      "metadata": {
        "id": "_DZjULHd8PR4",
        "colab": {
          "base_uri": "https://localhost:8080/"
        },
        "outputId": "d3bd8636-e36a-49a8-f6f4-63b68b48ad46"
      },
      "execution_count": 26,
      "outputs": [
        {
          "output_type": "stream",
          "name": "stdout",
          "text": [
            "Labels used for this classification:  {'neutral': 0, 'surprise': 1, 'fear': 2, 'sadness': 3, 'joy': 4, 'disgust': 5, 'anger': 6}\n"
          ]
        }
      ]
    },
    {
      "cell_type": "code",
      "source": [],
      "metadata": {
        "id": "s59_QFIdwQ-Q"
      },
      "execution_count": null,
      "outputs": []
    }
  ]
}